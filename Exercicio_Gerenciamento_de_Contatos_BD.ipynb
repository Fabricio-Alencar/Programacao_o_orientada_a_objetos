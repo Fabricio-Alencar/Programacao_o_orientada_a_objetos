{
  "nbformat": 4,
  "nbformat_minor": 0,
  "metadata": {
    "colab": {
      "provenance": []
    },
    "kernelspec": {
      "name": "python3",
      "display_name": "Python 3"
    },
    "language_info": {
      "name": "python"
    }
  },
  "cells": [
    {
      "cell_type": "code",
      "source": [
        "\n",
        "#Banco de dados conexão\n",
        "import sqlite3\n",
        "class conexaoBD:\n",
        "  def __init__(self):\n",
        "    try:\n",
        "      self.conn = sqlite3.connect(\"Contatos.db\")\n",
        "      self.cursor = self.conn.cursor()\n",
        "      print(\"Çonexão estabelecida com sucesso!\")\n",
        "    except sqlite3.Error as e:\n",
        "        print(f'Erro ao conectar ao banco de dados {e}')\n",
        "  def criar_tabela(self):\n",
        "    if self.conn:\n",
        "      try:\n",
        "        self.cursor.execute('''\n",
        "        CREATE TABLE IF NOT EXISTS contatos(\n",
        "        id INTEGER PRIMARY KEY AUTOINCREMENT,\n",
        "        nome TEXT NOT NULL,\n",
        "        email TEXT NOT NULL,\n",
        "        telefone INTEGER NOT NULL,\n",
        "        data_aniversario TEXT,\n",
        "        cargo TEXT,\n",
        "        empresa TEXT,\n",
        "        tipo TEXT NOT NULL)''')\n",
        "        self.conn.commit()\n",
        "        print('Tabela criada com sucesso!')\n",
        "      except sqlite3.Error as e:\n",
        "        print(f'Erro ao criar a tabela: {e}')\n",
        "    else:\n",
        "      print('Não há conexão com o BD :*( ')\n",
        "  def fechar_conexao(self):\n",
        "      if self.conn:\n",
        "        try:\n",
        "          self.conn.close()\n",
        "          print('Conexão encerrada com o BD')\n",
        "        except sqlite3.Error as e:\n",
        "          print(f'Erro ao fechar conexão: {e}')\n",
        ""
      ],
      "metadata": {
        "id": "NJ2nrNhu9Yl5"
      },
      "execution_count": 2,
      "outputs": []
    },
    {
      "cell_type": "code",
      "source": [
        "\n",
        "#Dao banco de dados\n",
        "class ContatosDAO:\n",
        "  def __init__(self,conexao):\n",
        "    self.conn = conexao.conn\n",
        "    self.cursor = conexao.cursor\n",
        "\n",
        "  def salvar_contatoDAO(self,contato,tipo):\n",
        "    self.cursor.execute(''' INSER INTO contatos (nome, email, telefone, data_aniversario, cargo, empresa, tipo) VALUES (?, ?, ?, ?, ?, ?, ?)''',(contato._nome, contato._email, contato._telefone, contato._data_aniversario, contato._cargo, contato._empresa, contato.tipo))\n",
        "\n",
        "  def atualizar_contatoDAO(self, contato, tipo, id):\n",
        "    self.cursor.execute('''UPDATE users SET nome= ?, email = ?, telefone = ?, data_aniversario = ?, cargo = ?, empresa = ?, tipo = ? WERE id = ?''' (contato._nome, contato._email, contato._telefone, contato._data_aniversario, contato._cargo, contato._empresa, contato.tipo))\n",
        "\n",
        "  def listar_contatos_pessoaisDAO(self, tipo):\n",
        "    self.cursor.execute('''SELECT * FROM contatos WHERE tipo = ?''', ('pessoal',))\n",
        "    contatos = self.cursor.fetchall()\n",
        "    return contatos\n",
        "  def listar_contatos_profissionaisDAO(self,tipo):\n",
        "    self.cursor.execute('''SELECT * FROM contatos WHERE tipo = ?''', ('profissional',))\n",
        "    contatos = self.cursor.fetchall()\n",
        "    return contatos\n",
        "  def listar_contatosDAO(self):\n",
        "    self.cursor.execute('''SELECT * FROM contatos''')\n",
        "    contatos = self.cursor.fetchall()\n",
        "    return contatos\n",
        "  def buscar_contatoDAO(self, nome):\n",
        "    self.cursor.execute('''SELECT * FROM contatos WHERE nome = ?''', (nome,))\n",
        "    contato = self.cursor.fetchone()\n",
        "    return contato"
      ],
      "metadata": {
        "colab": {
          "base_uri": "https://localhost:8080/"
        },
        "id": "XcbwLFdg9cWe",
        "outputId": "69ab2720-b63a-4a5c-b892-49dad59f2909"
      },
      "execution_count": 13,
      "outputs": [
        {
          "output_type": "stream",
          "name": "stderr",
          "text": [
            "<>:11: SyntaxWarning: 'str' object is not callable; perhaps you missed a comma?\n",
            "<>:11: SyntaxWarning: 'str' object is not callable; perhaps you missed a comma?\n",
            "<ipython-input-13-4a8c7785acb3>:11: SyntaxWarning: 'str' object is not callable; perhaps you missed a comma?\n",
            "  self.cursor.execute('''UPDATE users SET nome= ?, email = ?, telefone = ?, data_aniversario = ?, cargo = ?, empresa = ?, tipo = ? WERE id = ?''' (contato._nome, contato._email, contato._telefone, contato._data_aniversario, contato._cargo, contato._empresa, contato.tipo))\n"
          ]
        }
      ]
    },
    {
      "cell_type": "code",
      "execution_count": 25,
      "metadata": {
        "id": "Qxvk3a1H2hLX"
      },
      "outputs": [],
      "source": [
        "\n",
        "from abc import ABC,abstractmethod\n",
        "\n",
        "class Contato(ABC):\n",
        "  def __init__(self,nome,email,telefone):\n",
        "    self._nome = nome\n",
        "    self._email = email\n",
        "    self._telefone = telefone\n",
        "\n",
        "  @abstractmethod\n",
        "  def obter_informacoes(self):\n",
        "    pass\n",
        "\n",
        "class ContatoPessoal(Contato):\n",
        "  def __init__(self, nome, email, telefone, data_aniversario):\n",
        "    super().__init__(nome,email,telefone)\n",
        "    self._data_aniversario = data_aniversario\n",
        "    self.tipo = 'pessoal'\n",
        "\n",
        "\n",
        "  def obter_informacoes(self):\n",
        "    print(f\"Nome:{self._nome} \\\n",
        "            email:{self._email} \\\n",
        "            telefone:{self._telefone} \\\n",
        "            aniversário:{self._data_aniversario }\")\n",
        "\n",
        "class ContatoProfissional(Contato):\n",
        "  def __init__(self, nome, email, telefone, cargo, empresa):\n",
        "    super().__init__(nome,email,telefone)\n",
        "    self._cargo = cargo\n",
        "    self._empresa = empresa\n",
        "    self.tipo = 'profissional'\n",
        "\n",
        "  def obter_informacoes(self):\n",
        "    print(f\"Nome:{self._nome} \\\n",
        "            email:{self._email} \\\n",
        "            telefone:{self._telefone} \\\n",
        "            cargo:{self._cargo } \\\n",
        "            empresa:{self._empresa}\")\n",
        "\n",
        "class GerenciadorContatos:\n",
        "  def __init__(self,conexao):\n",
        "    self.contato_dao = ContatosDAO(conexao)\n",
        "\n",
        "  def inserir_contato_pessoal(self,contato: Contato):\n",
        "    contato_dao = ContatosDAO()\n",
        "    contato_dao.salvar_contatoDAO(contato)\n",
        "    print(\"contato PESSOAL salvo com sucesso!\")\n",
        "\n",
        "  def inserir_contato_profissional(self,contato: Contato):\n",
        "    contato_dao = ContatosDAO()\n",
        "    contato_dao.salvar_contatoDAO(contato)\n",
        "    print(\"contato PROFISSIONAL salvo com sucesso!\")\n",
        "\n",
        "  def atualizar_contato_pessoal(self,contato: Contato):\n",
        "    contato_dao = ContatosDAO()\n",
        "    contato_dao.atualizar_contato(contato)\n",
        "    print(\"contato PESSOAL atualizado com sucesso!\")\n",
        "  def atualizar_contato_profissional(self,contato: Contato):\n",
        "    contato_dao = ContatosDAO()\n",
        "    contato_dao.atualizar_contatoDAO(contato)\n",
        "    print(\"contato PROFISSIONAL atualizado com sucesso!\")\n",
        "\n",
        "  def listar_contatos_pessoais(self):\n",
        "    self.listar_contatos_pessoaisDAO()\n",
        "\n",
        "  def listar_contatos_profissionais(self):\n",
        "    self.listar_contatos_profissionaisDAO()\n",
        "\n",
        "  def listar_contatos(self):\n",
        "    self.listar_contatosDAO()\n",
        "\n",
        "  def buscar_contato(self, nome: str):\n",
        "    self.buscar_contatoDAO(nome)\n",
        "\n"
      ]
    },
    {
      "cell_type": "code",
      "source": [
        "\n",
        "if __name__ == \"__main__\":\n",
        "  conexao = conexaoBD() #cria a conexao\n",
        "  conexao.criar_tabela() # cria a tebela contatos\n",
        "\n",
        "  contato1= ContatoPessoal('maria', 'maria@gamil.com', 123456789, '20/03/2000')\n",
        "  contato2= ContatoPessoal('marcelo', 'marcelo@gmail.com', 987654321, '23/07/2010')\n",
        "  contato3= ContatoProfissional('Joana', 'joana@gamil.com', 987651234,'Gerente', 'ouro safra')\n",
        "  contato4= ContatoProfissional('silvio', 'silvio@gmail.com', 1230984576, 'estagiario', 'nubank')\n",
        "\n",
        "  contato1.obter_informacoes()\n",
        "  contato2.obter_informacoes()\n",
        "  contato3.obter_informacoes()\n",
        "  contato4.obter_informacoes()\n",
        "\n",
        "  inserir_contato_pessoal(contato1)\n",
        "  inserir_contato_pessoal(contato2)\n",
        "  inserir_contato_profissional(contato3)\n",
        "  inserir_contato_profissional(contato4)\n",
        "\n",
        "\n",
        "\n"
      ],
      "metadata": {
        "colab": {
          "base_uri": "https://localhost:8080/",
          "height": 280
        },
        "id": "u4QpXw4Y4C_m",
        "outputId": "912606cc-6bf7-436e-8381-239576359ec3"
      },
      "execution_count": 37,
      "outputs": [
        {
          "output_type": "stream",
          "name": "stdout",
          "text": [
            "Nome:maria             email:maria@gamil.com             telefone:123456789             aniversário:20/03/2000\n",
            "Nome:marcelo             email:marcelo@gmail.com             telefone:987654321             aniversário:23/07/2010\n",
            "Nome:Joana             email:joana@gamil.com             telefone:987651234             cargo:Gerente             empresa:ouro safra\n",
            "Nome:silvio             email:silvio@gmail.com             telefone:1230984576             cargo:estagiario             empresa:nubank\n"
          ]
        },
        {
          "output_type": "error",
          "ename": "NameError",
          "evalue": "name 'inserir_contato_pessoal' is not defined",
          "traceback": [
            "\u001b[0;31m---------------------------------------------------------------------------\u001b[0m",
            "\u001b[0;31mNameError\u001b[0m                                 Traceback (most recent call last)",
            "\u001b[0;32m<ipython-input-37-59227b93181c>\u001b[0m in \u001b[0;36m<cell line: 1>\u001b[0;34m()\u001b[0m\n\u001b[1;32m     13\u001b[0m   \u001b[0mcontato4\u001b[0m\u001b[0;34m.\u001b[0m\u001b[0mobter_informacoes\u001b[0m\u001b[0;34m(\u001b[0m\u001b[0;34m)\u001b[0m\u001b[0;34m\u001b[0m\u001b[0;34m\u001b[0m\u001b[0m\n\u001b[1;32m     14\u001b[0m \u001b[0;34m\u001b[0m\u001b[0m\n\u001b[0;32m---> 15\u001b[0;31m   \u001b[0minserir_contato_pessoal\u001b[0m\u001b[0;34m(\u001b[0m\u001b[0mcontato1\u001b[0m\u001b[0;34m)\u001b[0m\u001b[0;34m\u001b[0m\u001b[0;34m\u001b[0m\u001b[0m\n\u001b[0m\u001b[1;32m     16\u001b[0m   \u001b[0minserir_contato_pessoal\u001b[0m\u001b[0;34m(\u001b[0m\u001b[0mcontato2\u001b[0m\u001b[0;34m)\u001b[0m\u001b[0;34m\u001b[0m\u001b[0;34m\u001b[0m\u001b[0m\n\u001b[1;32m     17\u001b[0m   \u001b[0minserir_contato_profissional\u001b[0m\u001b[0;34m(\u001b[0m\u001b[0mcontato3\u001b[0m\u001b[0;34m)\u001b[0m\u001b[0;34m\u001b[0m\u001b[0;34m\u001b[0m\u001b[0m\n",
            "\u001b[0;31mNameError\u001b[0m: name 'inserir_contato_pessoal' is not defined"
          ]
        }
      ]
    }
  ]
}